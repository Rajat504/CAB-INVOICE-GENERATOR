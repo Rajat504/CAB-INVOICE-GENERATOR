{
  "cells": [
    {
      "cell_type": "markdown",
      "metadata": {
        "id": "view-in-github",
        "colab_type": "text"
      },
      "source": [
        "<a href=\"https://colab.research.google.com/github/Rajat504/CAB-INVOICE-GENERATOR/blob/master/Pandas_withoutcode.ipynb\" target=\"_parent\"><img src=\"https://colab.research.google.com/assets/colab-badge.svg\" alt=\"Open In Colab\"/></a>"
      ]
    },
    {
      "cell_type": "markdown",
      "metadata": {
        "id": "XHvoVqK5mYA-"
      },
      "source": [
        "# <center><u>Pandas <u></center>"
      ],
      "id": "XHvoVqK5mYA-"
    },
    {
      "cell_type": "markdown",
      "metadata": {
        "id": "Qo-oPl0jmYBD"
      },
      "source": [
        "## 1.[Pandas Series](https://pandas.pydata.org/pandas-docs/stable/reference/series.html)"
      ],
      "id": "Qo-oPl0jmYBD"
    },
    {
      "cell_type": "markdown",
      "metadata": {
        "id": "SKahU4hEmYBE"
      },
      "source": [
        "## **`WATCH VIDEOS IN THE PORTAL`**\n",
        "\n",
        "### **`Watch Video 1: Pandas Series`**"
      ],
      "id": "SKahU4hEmYBE"
    },
    {
      "cell_type": "markdown",
      "metadata": {
        "id": "t24UcEl0mYBE"
      },
      "source": [
        "<p style='text-align: right;'> 1*4=4 points</p>\n"
      ],
      "id": "t24UcEl0mYBE"
    },
    {
      "cell_type": "markdown",
      "metadata": {
        "id": "v9Qb2_aumYBF"
      },
      "source": [
        "Import pandas and numpy with their aliases"
      ],
      "id": "v9Qb2_aumYBF"
    },
    {
      "cell_type": "code",
      "execution_count": 2,
      "metadata": {
        "id": "ihFP1wXZmYBF"
      },
      "outputs": [],
      "source": [
        "import pandas as pd\n",
        "import numpy as np\n",
        "\n"
      ],
      "id": "ihFP1wXZmYBF"
    },
    {
      "cell_type": "markdown",
      "metadata": {
        "id": "0b8hUBhTmYBG"
      },
      "source": [
        "Create a variable a = pd.Series([ 100, 200, 300, 400])"
      ],
      "id": "0b8hUBhTmYBG"
    },
    {
      "cell_type": "code",
      "execution_count": 3,
      "metadata": {
        "id": "hzvzkbNYmYBH"
      },
      "outputs": [],
      "source": [
        "a =  pd.Series([100, 200, 300, 400])\n",
        "\n",
        "\n"
      ],
      "id": "hzvzkbNYmYBH"
    },
    {
      "cell_type": "markdown",
      "metadata": {
        "id": "BSyNFbitmYBH"
      },
      "source": [
        "Print a, and data type"
      ],
      "id": "BSyNFbitmYBH"
    },
    {
      "cell_type": "code",
      "execution_count": 4,
      "metadata": {
        "id": "GMmFsjPamYBH",
        "outputId": "77d5d361-7fc5-45e3-dfd0-a58a86ede61e",
        "colab": {
          "base_uri": "https://localhost:8080/"
        }
      },
      "outputs": [
        {
          "output_type": "stream",
          "name": "stdout",
          "text": [
            "0    100\n",
            "1    200\n",
            "2    300\n",
            "3    400\n",
            "dtype: int64\n",
            "<class 'pandas.core.series.Series'>\n"
          ]
        }
      ],
      "source": [
        "import pandas as pd\n",
        "\n",
        "# Create the Series\n",
        "a = pd.Series([100, 200, 300, 400])\n",
        "\n",
        "# Print the Series\n",
        "print(a)\n",
        "\n",
        "# Print the data type\n",
        "print(type(a))\n",
        "\n",
        "\n"
      ],
      "id": "GMmFsjPamYBH"
    },
    {
      "cell_type": "markdown",
      "metadata": {
        "id": "z0FryxOXmYBI"
      },
      "source": [
        "Using indexing access the element 300 from the series a."
      ],
      "id": "z0FryxOXmYBI"
    },
    {
      "cell_type": "code",
      "execution_count": 5,
      "metadata": {
        "id": "wERTsh-4mYBJ",
        "outputId": "c47bf728-a339-41d1-fc6b-febf6d2f15cc",
        "colab": {
          "base_uri": "https://localhost:8080/"
        }
      },
      "outputs": [
        {
          "output_type": "stream",
          "name": "stdout",
          "text": [
            "300\n"
          ]
        }
      ],
      "source": [
        "import pandas as pd\n",
        "\n",
        "# Create the Series\n",
        "a = pd.Series([100, 200, 300, 400])\n",
        "\n",
        "# Access the element 300 using indexing\n",
        "element = a[2]\n",
        "\n",
        "# Print the element\n",
        "print(element)\n"
      ],
      "id": "wERTsh-4mYBJ"
    },
    {
      "cell_type": "markdown",
      "metadata": {
        "id": "HHEKyOtemYBJ"
      },
      "source": [
        "What are the values of index for series a?"
      ],
      "id": "HHEKyOtemYBJ"
    },
    {
      "cell_type": "markdown",
      "metadata": {
        "id": "PQLuzZ8FmYBJ"
      },
      "source": [
        "<p style='text-align: right;'> 2*4 = 8 points</p>\n"
      ],
      "id": "PQLuzZ8FmYBJ"
    },
    {
      "cell_type": "code",
      "execution_count": 6,
      "metadata": {
        "id": "uQOnSJQ4mYBJ",
        "outputId": "670eeac6-e1b2-4a8e-f177-e555c5969f3e",
        "colab": {
          "base_uri": "https://localhost:8080/"
        }
      },
      "outputs": [
        {
          "output_type": "stream",
          "name": "stdout",
          "text": [
            "RangeIndex(start=0, stop=4, step=1)\n"
          ]
        }
      ],
      "source": [
        "import pandas as pd\n",
        "\n",
        "# Create the Series\n",
        "a = pd.Series([100, 200, 300, 400])\n",
        "\n",
        "# Get the index values\n",
        "index_values = a.index\n",
        "\n",
        "# Print the index values\n",
        "print(index_values)\n",
        "\n"
      ],
      "id": "uQOnSJQ4mYBJ"
    },
    {
      "cell_type": "markdown",
      "metadata": {
        "id": "EuFjG74wmYBJ"
      },
      "source": [
        "Change the index to  ['c', 'a', 'b', 'd']"
      ],
      "id": "EuFjG74wmYBJ"
    },
    {
      "cell_type": "code",
      "execution_count": 9,
      "metadata": {
        "id": "1ueAAFiJmYBK",
        "outputId": "bc989cc4-9b9b-44a9-fc86-5c079c26e515",
        "colab": {
          "base_uri": "https://localhost:8080/"
        }
      },
      "outputs": [
        {
          "output_type": "stream",
          "name": "stdout",
          "text": [
            "c    100\n",
            "a    200\n",
            "b    300\n",
            "d    400\n",
            "dtype: int64\n"
          ]
        }
      ],
      "source": [
        "import pandas as pd\n",
        "\n",
        "# Create the Series\n",
        "a = pd.Series([100, 200, 300, 400])\n",
        "\n",
        "# Change the index\n",
        "a.index = ['c', 'a', 'b', 'd']\n",
        "\n",
        "# Print the updated Series\n",
        "print(a)\n",
        "\n"
      ],
      "id": "1ueAAFiJmYBK"
    },
    {
      "cell_type": "markdown",
      "metadata": {
        "id": "ZdZLyRO7mYBK"
      },
      "source": [
        "Access the value in the series with index 'd'"
      ],
      "id": "ZdZLyRO7mYBK"
    },
    {
      "cell_type": "code",
      "execution_count": 10,
      "metadata": {
        "id": "oN1ce3GymYBK",
        "outputId": "4f18a9c0-0f13-406f-c074-79436ad6577e",
        "colab": {
          "base_uri": "https://localhost:8080/"
        }
      },
      "outputs": [
        {
          "output_type": "stream",
          "name": "stdout",
          "text": [
            "400\n"
          ]
        }
      ],
      "source": [
        "import pandas as pd\n",
        "\n",
        "# Create the Series\n",
        "a = pd.Series([100, 200, 300, 400])\n",
        "\n",
        "# Change the index\n",
        "a.index = ['c', 'a', 'b', 'd']\n",
        "\n",
        "# Access the value with index 'd'\n",
        "value_d = a['d']\n",
        "\n",
        "# Print the value\n",
        "print(value_d)\n",
        "\n"
      ],
      "id": "oN1ce3GymYBK"
    },
    {
      "cell_type": "markdown",
      "metadata": {
        "id": "eQSGwKtFmYBK"
      },
      "source": [
        "Sort the values wrt to the index and print it"
      ],
      "id": "eQSGwKtFmYBK"
    },
    {
      "cell_type": "code",
      "execution_count": 11,
      "metadata": {
        "id": "-arvricBmYBL",
        "outputId": "d819f010-f07e-4adf-8a40-cd40f1eadba4",
        "colab": {
          "base_uri": "https://localhost:8080/"
        }
      },
      "outputs": [
        {
          "output_type": "stream",
          "name": "stdout",
          "text": [
            "a    200\n",
            "b    300\n",
            "c    100\n",
            "d    400\n",
            "dtype: int64\n"
          ]
        }
      ],
      "source": [
        "import pandas as pd\n",
        "\n",
        "# Create the Series\n",
        "a = pd.Series([100, 200, 300, 400])\n",
        "\n",
        "# Change the index\n",
        "a.index = ['c', 'a', 'b', 'd']\n",
        "\n",
        "# Sort the Series by index\n",
        "sorted_a = a.sort_index()\n",
        "\n",
        "# Print the sorted Series\n",
        "print(sorted_a)\n",
        "\n",
        "\n"
      ],
      "id": "-arvricBmYBL"
    },
    {
      "cell_type": "markdown",
      "metadata": {
        "id": "g-fXVSK2mYBL"
      },
      "source": [
        "Create a new Pandas Series b having index as 'e', 'f', and 'g' and value 800,450,100 and print it"
      ],
      "id": "g-fXVSK2mYBL"
    },
    {
      "cell_type": "markdown",
      "metadata": {
        "id": "dC6jYa3dmYBL"
      },
      "source": [
        "<p style='text-align: right;'> 4*2=8 points</p>\n"
      ],
      "id": "dC6jYa3dmYBL"
    },
    {
      "cell_type": "code",
      "execution_count": 12,
      "metadata": {
        "id": "fAg_rI3hmYBL",
        "outputId": "ce878cd0-9cc7-4fc1-948a-0501cbf6dd76",
        "colab": {
          "base_uri": "https://localhost:8080/"
        }
      },
      "outputs": [
        {
          "output_type": "stream",
          "name": "stdout",
          "text": [
            "e    800\n",
            "f    450\n",
            "g    100\n",
            "dtype: int64\n"
          ]
        }
      ],
      "source": [
        "import pandas as pd\n",
        "\n",
        "# Create the new Series\n",
        "b = pd.Series([800, 450, 100], index=['e', 'f', 'g'])\n",
        "\n",
        "# Print the Series\n",
        "print(b)\n",
        "\n",
        "\n",
        "\n",
        "\n"
      ],
      "id": "fAg_rI3hmYBL"
    },
    {
      "cell_type": "markdown",
      "metadata": {
        "id": "jWhRRtF1mYBL"
      },
      "source": [
        "Append b series at the end of a series"
      ],
      "id": "jWhRRtF1mYBL"
    },
    {
      "cell_type": "code",
      "execution_count": 13,
      "metadata": {
        "id": "TBV8hkRXmYBL",
        "colab": {
          "base_uri": "https://localhost:8080/"
        },
        "outputId": "1ed898a2-44ae-46c1-977a-8d0026670dbb"
      },
      "outputs": [
        {
          "output_type": "stream",
          "name": "stdout",
          "text": [
            "c    100\n",
            "a    200\n",
            "b    300\n",
            "d    400\n",
            "e    800\n",
            "f    450\n",
            "g    100\n",
            "dtype: int64\n"
          ]
        }
      ],
      "source": [
        "a =pd.Series([100, 200, 300, 400], index=['c', 'a', 'b', 'd'])\n",
        "b = pd.Series([800, 450, 100], index=['e', 'f', 'g'])\n",
        "\n",
        "# Append Series b to Series a\n",
        "combined_series = pd.concat([a, b])\n",
        "\n",
        "# Print the combined Series\n",
        "print(combined_series)\n",
        "\n"
      ],
      "id": "TBV8hkRXmYBL"
    },
    {
      "cell_type": "code",
      "execution_count": null,
      "metadata": {
        "id": "Xfm5WgBYmYBM",
        "outputId": "45dbeb71-cdd2-46ac-8b76-947f9e4eab54"
      },
      "outputs": [
        {
          "name": "stdout",
          "output_type": "stream",
          "text": [
            "a    200\n",
            "b    300\n",
            "c    100\n",
            "d    400\n",
            "e    800\n",
            "f    450\n",
            "g    100\n",
            "dtype: int64\n"
          ]
        }
      ],
      "source": [
        "#print a again after appending b into it\n",
        "\n",
        "\n",
        "\n"
      ],
      "id": "Xfm5WgBYmYBM"
    },
    {
      "cell_type": "markdown",
      "metadata": {
        "id": "6lz_BR0umYBM"
      },
      "source": [
        "Sort the values in descending order of a and print the index of the sorted series"
      ],
      "id": "6lz_BR0umYBM"
    },
    {
      "cell_type": "code",
      "execution_count": 16,
      "metadata": {
        "id": "5srJV0y0mYBM",
        "colab": {
          "base_uri": "https://localhost:8080/"
        },
        "outputId": "46a84414-c537-4643-d32c-9ecb9e57c403"
      },
      "outputs": [
        {
          "output_type": "stream",
          "name": "stdout",
          "text": [
            "Index(['d', 'b', 'a', 'c'], dtype='object')\n"
          ]
        }
      ],
      "source": [
        "a = pd.Series([100, 200, 300, 400], index=['c', 'a', 'b', 'd'])\n",
        "\n",
        "# Sort the Series in descending order\n",
        "sorted_a = a.sort_values(ascending=False)\n",
        "\n",
        "# Print the index of the sorted Series\n",
        "print(sorted_a.index)\n",
        "\n"
      ],
      "id": "5srJV0y0mYBM"
    },
    {
      "cell_type": "markdown",
      "metadata": {
        "id": "OQ5gj4romYBM"
      },
      "source": [
        "## 2. [Pandas DataFrame](https://pandas.pydata.org/pandas-docs/stable/reference/api/pandas.DataFrame.html)\n",
        "\n",
        "\n",
        "### **`Watch Videos 2: Pandas Dataframe`**"
      ],
      "id": "OQ5gj4romYBM"
    },
    {
      "cell_type": "markdown",
      "metadata": {
        "id": "lJ_-0Nc1mYBM"
      },
      "source": [
        "<p style='text-align: right;'> 8*2 = 16 points</p>\n"
      ],
      "id": "lJ_-0Nc1mYBM"
    },
    {
      "cell_type": "markdown",
      "metadata": {
        "id": "tD7de_2amYBM"
      },
      "source": [
        "### Part 1"
      ],
      "id": "tD7de_2amYBM"
    },
    {
      "cell_type": "markdown",
      "metadata": {
        "id": "z_nAQa4BmYBN"
      },
      "source": [
        "Create a pandas dataframe df from the series 'a' that we used in the last section, print the dataframe"
      ],
      "id": "z_nAQa4BmYBN"
    },
    {
      "cell_type": "markdown",
      "metadata": {
        "id": "FerZdgCbmYBN"
      },
      "source": [
        "Point to ponder! Don't you think series a and dataframe df looks alike? But there must be some difference between them. Hey buddy think and write your thoughts below."
      ],
      "id": "FerZdgCbmYBN"
    },
    {
      "cell_type": "code",
      "execution_count": 20,
      "metadata": {
        "id": "2r2SyCYNmYBN",
        "colab": {
          "base_uri": "https://localhost:8080/"
        },
        "outputId": "42af6056-0dc1-4b90-a6d6-7b8ee52870f5"
      },
      "outputs": [
        {
          "output_type": "stream",
          "name": "stdout",
          "text": [
            "     0\n",
            "e  800\n",
            "f  450\n",
            "d  400\n",
            "b  300\n",
            "a  200\n",
            "g  100\n",
            "c  100\n"
          ]
        }
      ],
      "source": [
        "import pandas as pd\n",
        "\n",
        "# Create the Series a\n",
        "a = pd.Series([800, 450, 400, 300, 200, 100, 100], index=['e', 'f', 'd', 'b','a','g','c'])\n",
        "\n",
        "# Create a DataFrame from the Series\n",
        "df = pd.DataFrame(a)\n",
        "\n",
        "# Print the DataFrame\n",
        "print(df)"
      ],
      "id": "2r2SyCYNmYBN"
    },
    {
      "cell_type": "markdown",
      "metadata": {
        "id": "KDMbMmdnmYBN"
      },
      "source": [
        "<p style='text-align: right;'> 5 points</p>\n"
      ],
      "id": "KDMbMmdnmYBN"
    },
    {
      "cell_type": "markdown",
      "metadata": {
        "id": "r54CiOOlmYBN"
      },
      "source": [
        "<p style='text-align: right;'> 2 + 1*4 = 6 points</p>\n"
      ],
      "id": "r54CiOOlmYBN"
    },
    {
      "cell_type": "markdown",
      "metadata": {
        "id": "yzrIH3irmYBN"
      },
      "source": [
        "What is the shape of the datafarme <br>\n",
        "(also, what does it imply?)"
      ],
      "id": "yzrIH3irmYBN"
    },
    {
      "cell_type": "code",
      "execution_count": 21,
      "metadata": {
        "id": "aFo5tNrVmYBN",
        "outputId": "73c1b843-ac22-4b4e-aa0a-3d29a34f8b27",
        "colab": {
          "base_uri": "https://localhost:8080/"
        }
      },
      "outputs": [
        {
          "output_type": "stream",
          "name": "stdout",
          "text": [
            "(7, 1)\n"
          ]
        }
      ],
      "source": [
        "import pandas as pd\n",
        "\n",
        "# Create the Series a\n",
        "a = pd.Series([800, 450, 400, 300, 200, 100, 100], index=['e', 'f', 'd', 'b','a','g','c'])\n",
        "# Create a DataFrame from the Series\n",
        "df = pd.DataFrame(a)\n",
        "# Get the shape of the DataFrame\n",
        "shape = df.shape\n",
        "# Print the shape\n",
        "print(shape)\n",
        "\n"
      ],
      "id": "aFo5tNrVmYBN"
    },
    {
      "cell_type": "markdown",
      "metadata": {
        "id": "Dl0Hr0LSmYBO"
      },
      "source": [
        "Hey! remember shape (7,1) implies dataframe has 7 rows and 1 column."
      ],
      "id": "Dl0Hr0LSmYBO"
    },
    {
      "cell_type": "markdown",
      "metadata": {
        "id": "hwcaXl43mYBO"
      },
      "source": [
        "What is the index of the dataframe, is it same as the series 'a'"
      ],
      "id": "hwcaXl43mYBO"
    },
    {
      "cell_type": "code",
      "execution_count": 22,
      "metadata": {
        "id": "1-gMxT-emYBO",
        "outputId": "a5a4bb22-3608-484f-e557-ee2ef8175486",
        "colab": {
          "base_uri": "https://localhost:8080/"
        }
      },
      "outputs": [
        {
          "output_type": "stream",
          "name": "stdout",
          "text": [
            "Index(['e', 'f', 'd', 'b', 'a', 'g', 'c'], dtype='object')\n"
          ]
        }
      ],
      "source": [
        "# yep its same as the series.\n",
        "import pandas as pd\n",
        "\n",
        "# Create the Series a\n",
        "a = pd.Series([800, 450, 400, 300, 200, 100, 100], index=['e', 'f', 'd', 'b', 'a', 'g', 'c'])\n",
        "\n",
        "# Create a DataFrame from the Series\n",
        "df = pd.DataFrame(a)\n",
        "\n",
        "# Get the index of the DataFrame\n",
        "index_df = df.index\n",
        "\n",
        "# Print the index of the DataFrame\n",
        "print(index_df)\n"
      ],
      "id": "1-gMxT-emYBO"
    },
    {
      "cell_type": "markdown",
      "metadata": {
        "id": "C5wadnBymYBO"
      },
      "source": [
        "print the head and tail of the dataframe. <br>\n",
        "Additional - (what does head and tali represent?)"
      ],
      "id": "C5wadnBymYBO"
    },
    {
      "cell_type": "code",
      "execution_count": 23,
      "metadata": {
        "id": "U2vxYrPnmYBO",
        "outputId": "3912c3d8-0ba5-42ee-be09-2660bf1cfda5",
        "colab": {
          "base_uri": "https://localhost:8080/"
        }
      },
      "outputs": [
        {
          "output_type": "stream",
          "name": "stdout",
          "text": [
            "Head of the DataFrame:\n",
            "     0\n",
            "e  800\n",
            "f  450\n",
            "d  400\n",
            "b  300\n",
            "a  200\n",
            "\n",
            "Tail of the DataFrame:\n",
            "     0\n",
            "d  400\n",
            "b  300\n",
            "a  200\n",
            "g  100\n",
            "c  100\n"
          ]
        }
      ],
      "source": [
        "import pandas as pd\n",
        "\n",
        "# Create the Series a\n",
        "a = pd.Series([800, 450, 400, 300, 200, 100, 100], index=['e', 'f', 'd', 'b', 'a', 'g', 'c'])\n",
        "\n",
        "# Create a DataFrame from the Series\n",
        "df = pd.DataFrame(a)\n",
        "\n",
        "# Print the head of the DataFrame\n",
        "print(\"Head of the DataFrame:\")\n",
        "print(df.head())\n",
        "\n",
        "# Print the tail of the DataFrame\n",
        "print(\"\\nTail of the DataFrame:\")\n",
        "print(df.tail())\n",
        "\n"
      ],
      "id": "U2vxYrPnmYBO"
    },
    {
      "cell_type": "code",
      "execution_count": null,
      "metadata": {
        "id": "nikOdGC_mYBO",
        "outputId": "2ab575b8-468b-4fbe-a6fa-80a607a83857"
      },
      "outputs": [
        {
          "data": {
            "text/html": [
              "<div>\n",
              "<style scoped>\n",
              "    .dataframe tbody tr th:only-of-type {\n",
              "        vertical-align: middle;\n",
              "    }\n",
              "\n",
              "    .dataframe tbody tr th {\n",
              "        vertical-align: top;\n",
              "    }\n",
              "\n",
              "    .dataframe thead th {\n",
              "        text-align: right;\n",
              "    }\n",
              "</style>\n",
              "<table border=\"1\" class=\"dataframe\">\n",
              "  <thead>\n",
              "    <tr style=\"text-align: right;\">\n",
              "      <th></th>\n",
              "      <th>0</th>\n",
              "    </tr>\n",
              "  </thead>\n",
              "  <tbody>\n",
              "    <tr>\n",
              "      <th>d</th>\n",
              "      <td>400</td>\n",
              "    </tr>\n",
              "    <tr>\n",
              "      <th>b</th>\n",
              "      <td>300</td>\n",
              "    </tr>\n",
              "    <tr>\n",
              "      <th>a</th>\n",
              "      <td>200</td>\n",
              "    </tr>\n",
              "    <tr>\n",
              "      <th>g</th>\n",
              "      <td>100</td>\n",
              "    </tr>\n",
              "    <tr>\n",
              "      <th>c</th>\n",
              "      <td>100</td>\n",
              "    </tr>\n",
              "  </tbody>\n",
              "</table>\n",
              "</div>"
            ],
            "text/plain": [
              "     0\n",
              "d  400\n",
              "b  300\n",
              "a  200\n",
              "g  100\n",
              "c  100"
            ]
          },
          "execution_count": 19,
          "metadata": {},
          "output_type": "execute_result"
        }
      ],
      "source": [
        "\n",
        "\n"
      ],
      "id": "nikOdGC_mYBO"
    },
    {
      "cell_type": "markdown",
      "metadata": {
        "id": "Ci2tiwbBmYBO"
      },
      "source": [
        "Rename the column of the dataframe as 'points'"
      ],
      "id": "Ci2tiwbBmYBO"
    },
    {
      "cell_type": "markdown",
      "metadata": {
        "id": "rCtjS-AqmYBP"
      },
      "source": [
        "<p style='text-align: right;'> 2 points</p>\n"
      ],
      "id": "rCtjS-AqmYBP"
    },
    {
      "cell_type": "code",
      "execution_count": 24,
      "metadata": {
        "id": "K3OsbVD3mYBP",
        "outputId": "be9612f7-49b0-472d-9e2a-4f2b1d404515",
        "colab": {
          "base_uri": "https://localhost:8080/"
        }
      },
      "outputs": [
        {
          "output_type": "stream",
          "name": "stdout",
          "text": [
            "   points\n",
            "e     800\n",
            "f     450\n",
            "d     400\n",
            "b     300\n",
            "a     200\n",
            "g     100\n",
            "c     100\n"
          ]
        }
      ],
      "source": [
        "import pandas as pd\n",
        "\n",
        "# Create the Series a\n",
        "a = pd.Series([800, 450, 400, 300, 200, 100, 100], index=['e', 'f', 'd', 'b', 'a', 'g', 'c'])\n",
        "\n",
        "# Create a DataFrame from the Series\n",
        "df = pd.DataFrame(a)\n",
        "\n",
        "# Rename the column using .rename()\n",
        "df = df.rename(columns={0: 'points'})\n",
        "\n",
        "# Print the DataFrame\n",
        "print(df)\n",
        "\n",
        "\n"
      ],
      "id": "K3OsbVD3mYBP"
    },
    {
      "cell_type": "markdown",
      "metadata": {
        "id": "bBV0VfzzmYBP"
      },
      "source": [
        "Create another Series 'fruits', which contains random names of fruits from ['orange','mango','apple']. The series should contain 7 elements, randomly selected from ['orange','mango','apple']"
      ],
      "id": "bBV0VfzzmYBP"
    },
    {
      "cell_type": "markdown",
      "metadata": {
        "id": "xzR8AxbumYBP"
      },
      "source": [
        "<p style='text-align: right;'> 5 points</p>\n"
      ],
      "id": "xzR8AxbumYBP"
    },
    {
      "cell_type": "code",
      "execution_count": 26,
      "metadata": {
        "id": "baUmpsuhmYBP",
        "outputId": "17d01b24-93f3-4c1c-8530-ac5ece1f0314",
        "colab": {
          "base_uri": "https://localhost:8080/"
        }
      },
      "outputs": [
        {
          "output_type": "stream",
          "name": "stdout",
          "text": [
            "0    apple\n",
            "1    apple\n",
            "2    mango\n",
            "3    apple\n",
            "4    mango\n",
            "5    mango\n",
            "6    apple\n",
            "dtype: object\n"
          ]
        }
      ],
      "source": [
        "import pandas as pd\n",
        "import numpy as np\n",
        "\n",
        "# Define the list of fruits\n",
        "fruit_list = ['orange', 'mango', 'apple']\n",
        "\n",
        "# Create a Series 'fruits' with 7 random selections from the fruit_list\n",
        "fruits = pd.Series(np.random.choice(fruit_list, size=7))\n",
        "\n",
        "# Print the Series\n",
        "print(fruits)\n",
        "\n",
        "\n",
        "\n"
      ],
      "id": "baUmpsuhmYBP"
    },
    {
      "cell_type": "code",
      "execution_count": 27,
      "metadata": {
        "id": "QrbnjM8FmYBP",
        "outputId": "54ab87ad-93bd-4bd3-c0b1-2ef5debd8cf5",
        "colab": {
          "base_uri": "https://localhost:8080/"
        }
      },
      "outputs": [
        {
          "output_type": "stream",
          "name": "stdout",
          "text": [
            "0     mango\n",
            "1     mango\n",
            "2     apple\n",
            "3    orange\n",
            "4     apple\n",
            "5    orange\n",
            "6     apple\n",
            "dtype: object\n"
          ]
        }
      ],
      "source": [
        "#Create series fruits out of fruits array\n",
        "\n",
        "#Create series fruits out of fruits array\n",
        "\n",
        "import pandas as pd\n",
        "import numpy as np\n",
        "\n",
        "# Create a NumPy array of fruits\n",
        "fruits_array = np.array(['mango', 'mango', 'apple', 'orange', 'apple', 'orange', 'apple'])\n",
        "\n",
        "# Create a Series 'fruits' from the fruits_array\n",
        "fruits = pd.Series(fruits_array)\n",
        "\n",
        "# Print the Series\n",
        "print(fruits)\n",
        "\n",
        "\n",
        "\n"
      ],
      "id": "QrbnjM8FmYBP"
    },
    {
      "cell_type": "markdown",
      "metadata": {
        "id": "20slMbq5mYBP"
      },
      "source": [
        "Change the index of fruits to the index of dataframe df"
      ],
      "id": "20slMbq5mYBP"
    },
    {
      "cell_type": "markdown",
      "metadata": {
        "id": "G8LA7ZjXmYBQ"
      },
      "source": [
        "<p style='text-align: right;'> 5 points</p>\n"
      ],
      "id": "G8LA7ZjXmYBQ"
    },
    {
      "cell_type": "code",
      "execution_count": 28,
      "metadata": {
        "id": "1n4THBgkmYBQ",
        "outputId": "dd579159-2622-4caf-83ce-6e2803809aa4",
        "colab": {
          "base_uri": "https://localhost:8080/"
        }
      },
      "outputs": [
        {
          "output_type": "stream",
          "name": "stdout",
          "text": [
            "e     mango\n",
            "f     mango\n",
            "d     apple\n",
            "b    orange\n",
            "a     apple\n",
            "g    orange\n",
            "c     apple\n",
            "dtype: object\n"
          ]
        }
      ],
      "source": [
        "import pandas as pd\n",
        "import numpy as np\n",
        "\n",
        "# Create the Series a\n",
        "a = pd.Series([800, 450, 400, 300, 200, 100, 100], index=['e', 'f', 'd', 'b', 'a', 'g', 'c'])\n",
        "\n",
        "# Create a DataFrame from the Series\n",
        "df = pd.DataFrame(a)\n",
        "\n",
        "# Create a NumPy array of fruits\n",
        "fruits_array = np.array(['mango', 'mango', 'apple', 'orange', 'apple', 'orange', 'apple'])\n",
        "\n",
        "# Create a Series 'fruits' from the fruits_array\n",
        "fruits = pd.Series(fruits_array)\n",
        "\n",
        "# Change the index of the fruits Series to match the index of the DataFrame df\n",
        "fruits.index = df.index\n",
        "\n",
        "# Print the updated Series\n",
        "print(fruits)\n",
        "\n",
        "\n",
        "\n",
        "\n"
      ],
      "id": "1n4THBgkmYBQ"
    },
    {
      "cell_type": "markdown",
      "metadata": {
        "id": "oPv8dJ_2mYBQ"
      },
      "source": [
        "Add this fruits series as a new column to the dataframe df with its column name as 'fruits'\n",
        "<br>print the head of the dataframe to verify"
      ],
      "id": "oPv8dJ_2mYBQ"
    },
    {
      "cell_type": "code",
      "execution_count": 30,
      "metadata": {
        "id": "tit_GDscmYBQ",
        "outputId": "0e1ebc18-03eb-4aa4-d8e6-2b746f0197b3",
        "colab": {
          "base_uri": "https://localhost:8080/"
        }
      },
      "outputs": [
        {
          "output_type": "stream",
          "name": "stdout",
          "text": [
            "     0  fruits\n",
            "e  800  orange\n",
            "f  450   mango\n",
            "d  400   apple\n",
            "b  300   mango\n",
            "a  200   apple\n"
          ]
        }
      ],
      "source": [
        "import pandas as pd\n",
        "import numpy as np\n",
        "\n",
        "# Create the Series a\n",
        "a = pd.Series([800, 450, 400, 300, 200, 100, 100], index=['e', 'f', 'd', 'b', 'a', 'g', 'c'])\n",
        "\n",
        "# Create a DataFrame from the Series\n",
        "df = pd.DataFrame(a)\n",
        "\n",
        "# Create a NumPy array of fruits\n",
        "fruits_array = np.array(['orange', 'mango', 'apple', 'mango', 'apple', 'orange', 'apple'])\n",
        "\n",
        "# Create a Series 'fruits' from the fruits_array\n",
        "fruits = pd.Series(fruits_array)\n",
        "\n",
        "# Change the index of the fruits Series to match the index of the DataFrame df\n",
        "fruits.index = df.index\n",
        "\n",
        "# Add the fruits Series as a new column to the DataFrame df\n",
        "df['fruits'] = fruits\n",
        "\n",
        "# Print the head of the DataFrame to verify\n",
        "print(df.head())\n",
        "\n",
        "\n",
        "\n"
      ],
      "id": "tit_GDscmYBQ"
    },
    {
      "cell_type": "markdown",
      "metadata": {
        "id": "iJszrVdAmYBQ"
      },
      "source": [
        "Bonus optional question:\n",
        "What if we had to changed the index of the dataframe?\n",
        "Try to add any series to the dataframe with the origianl index (when index of series is not same as to the index of dataframe)\n",
        "\n",
        "Use series as pd.Series([100,200,300,400,500,600,700]) and try to add it to df with column name Bonus_number.\n",
        "\n",
        "Bonus marks: 5 points"
      ],
      "id": "iJszrVdAmYBQ"
    },
    {
      "cell_type": "code",
      "execution_count": 31,
      "metadata": {
        "id": "X3A6oKUXmYBQ",
        "outputId": "77fbee5c-1949-4f95-c7ae-6fb0663cc80e",
        "colab": {
          "base_uri": "https://localhost:8080/"
        }
      },
      "outputs": [
        {
          "output_type": "stream",
          "name": "stdout",
          "text": [
            "     0  Bonus_number\n",
            "e  800           NaN\n",
            "f  450           NaN\n",
            "d  400           NaN\n",
            "b  300           NaN\n",
            "a  200           NaN\n",
            "g  100           NaN\n",
            "c  100           NaN\n"
          ]
        }
      ],
      "source": [
        "import pandas as pd\n",
        "import numpy as np\n",
        "\n",
        "# Create the Series a\n",
        "a = pd.Series([800, 450, 400, 300, 200, 100, 100], index=['e', 'f', 'd', 'b', 'a', 'g', 'c'])\n",
        "\n",
        "# Create a DataFrame from the Series\n",
        "df = pd.DataFrame(a)\n",
        "\n",
        "# Create a Series with a different index\n",
        "bonus_series = pd.Series([100, 200, 300, 400, 500, 600, 700])\n",
        "\n",
        "# Add the bonus_series to the DataFrame df with the column name 'Bonus_number'\n",
        "df['Bonus_number'] = bonus_series\n",
        "\n",
        "# Print the DataFrame to verify\n",
        "print(df)\n",
        "\n",
        "\n",
        "\n"
      ],
      "id": "X3A6oKUXmYBQ"
    },
    {
      "cell_type": "markdown",
      "metadata": {
        "id": "ACsvenslmYBQ"
      },
      "source": [
        "### Part 2\n",
        "\n",
        "### **`Watch Video 3: Pandas Concatenation`**"
      ],
      "id": "ACsvenslmYBQ"
    },
    {
      "cell_type": "markdown",
      "metadata": {
        "id": "cwgg82N0mYBQ"
      },
      "source": [
        "Create a dataframe  d1 where the cols are  ‘city’ : [‘Chandigarh’, ‘Delhi’, ‘Kanpur’, ‘Chennai’, ‘Manali’ ] and ‘Temperature’ : [15, 22, 20, 26,-2]"
      ],
      "id": "cwgg82N0mYBQ"
    },
    {
      "cell_type": "markdown",
      "metadata": {
        "id": "_Yj7WDLZmYBR"
      },
      "source": [
        "<p style='text-align: right;'> 2*5=10 points</p>\n"
      ],
      "id": "_Yj7WDLZmYBR"
    },
    {
      "cell_type": "code",
      "execution_count": 32,
      "metadata": {
        "id": "09tWwU18mYBR",
        "colab": {
          "base_uri": "https://localhost:8080/"
        },
        "outputId": "2f16765a-c40b-4218-bacf-a92295507930"
      },
      "outputs": [
        {
          "output_type": "stream",
          "name": "stdout",
          "text": [
            "         city  Temperature\n",
            "0  Chandigarh           15\n",
            "1       Delhi           22\n",
            "2      Kanpur           20\n",
            "3     Chennai           26\n",
            "4      Manali           -2\n"
          ]
        }
      ],
      "source": [
        "import pandas as pd\n",
        "\n",
        "# Create a DataFrame d1 with specified columns\n",
        "data = {\n",
        "    'city': ['Chandigarh', 'Delhi', 'Kanpur', 'Chennai', 'Manali'],\n",
        "    'Temperature': [15, 22, 20, 26, -2]\n",
        "}\n",
        "\n",
        "d1 = pd.DataFrame(data)\n",
        "\n",
        "# Print the DataFrame\n",
        "print(d1)\n",
        "\n",
        "\n"
      ],
      "id": "09tWwU18mYBR"
    },
    {
      "cell_type": "markdown",
      "metadata": {
        "id": "XAquuUx_mYBR"
      },
      "source": [
        "Print(d1)"
      ],
      "id": "XAquuUx_mYBR"
    },
    {
      "cell_type": "code",
      "execution_count": null,
      "metadata": {
        "id": "tEaf6dUVmYBR",
        "outputId": "02dd1795-381a-4d83-c8cc-37e15c066de8"
      },
      "outputs": [
        {
          "name": "stdout",
          "output_type": "stream",
          "text": [
            "         city  Temperature\n",
            "0  Chandigarh           15\n",
            "1       Delhi           22\n",
            "2      Kanpur           20\n",
            "3     Chennai           26\n",
            "4      Manali           -2\n"
          ]
        }
      ],
      "source": [
        "\n",
        "\n",
        "\n"
      ],
      "id": "tEaf6dUVmYBR"
    },
    {
      "cell_type": "markdown",
      "metadata": {
        "id": "YmZ9u-4FmYBR"
      },
      "source": [
        "What is the shape of d1."
      ],
      "id": "YmZ9u-4FmYBR"
    },
    {
      "cell_type": "code",
      "execution_count": 33,
      "metadata": {
        "id": "upPyfWR7mYBR",
        "outputId": "9709ab5d-feb1-45fd-ae49-d8e9f3fb72ff",
        "colab": {
          "base_uri": "https://localhost:8080/"
        }
      },
      "outputs": [
        {
          "output_type": "stream",
          "name": "stdout",
          "text": [
            "(5, 2)\n"
          ]
        }
      ],
      "source": [
        "import pandas as pd\n",
        "\n",
        "# Create a DataFrame d1 with specified columns\n",
        "data = {\n",
        "    'city': ['Chandigarh', 'Delhi', 'Kanpur', 'Chennai', 'Manali'],\n",
        "    'Temperature': [15, 22, 20, 26, -2]\n",
        "}\n",
        "\n",
        "d1 = pd.DataFrame(data)\n",
        "\n",
        "# Get the shape of the DataFrame\n",
        "shape = d1.shape\n",
        "\n",
        "# Print the shape\n",
        "print(shape)\n",
        "\n",
        "\n"
      ],
      "id": "upPyfWR7mYBR"
    },
    {
      "cell_type": "markdown",
      "metadata": {
        "id": "JtBQ5SLtmYBS"
      },
      "source": [
        "Set city = d1['city']"
      ],
      "id": "JtBQ5SLtmYBS"
    },
    {
      "cell_type": "code",
      "execution_count": 34,
      "metadata": {
        "id": "mzE78QzrmYBS",
        "colab": {
          "base_uri": "https://localhost:8080/"
        },
        "outputId": "ce4ff6eb-2ff6-46b1-a26d-81f7c1bb757b"
      },
      "outputs": [
        {
          "output_type": "stream",
          "name": "stdout",
          "text": [
            "0    Chandigarh\n",
            "1         Delhi\n",
            "2        Kanpur\n",
            "3       Chennai\n",
            "4        Manali\n",
            "Name: city, dtype: object\n"
          ]
        }
      ],
      "source": [
        "import pandas as pd\n",
        "\n",
        "# Create a DataFrame d1 with specified columns\n",
        "data = {\n",
        "    'city': ['Chandigarh', 'Delhi', 'Kanpur', 'Chennai', 'Manali'],\n",
        "    'Temperature': [15, 22, 20, 26, -2]\n",
        "}\n",
        "\n",
        "d1 = pd.DataFrame(data)\n",
        "\n",
        "# Set city to the 'city' column of the DataFrame d1\n",
        "city = d1['city']\n",
        "\n",
        "# Print the city variable\n",
        "print(city)\n",
        "\n",
        "\n"
      ],
      "id": "mzE78QzrmYBS"
    },
    {
      "cell_type": "markdown",
      "metadata": {
        "id": "WubWnFIcmYBS"
      },
      "source": [
        "print city <br>\n",
        "What is the type of city."
      ],
      "id": "WubWnFIcmYBS"
    },
    {
      "cell_type": "code",
      "execution_count": null,
      "metadata": {
        "id": "6d4EjYTemYBS",
        "outputId": "013b3d5f-4f17-45ca-bdbc-7c4f5166df33"
      },
      "outputs": [
        {
          "name": "stdout",
          "output_type": "stream",
          "text": [
            "0    Chandigarh\n",
            "1         Delhi\n",
            "2        Kanpur\n",
            "3       Chennai\n",
            "4        Manali\n",
            "Name: city, dtype: object\n"
          ]
        },
        {
          "data": {
            "text/plain": [
              "pandas.core.series.Series"
            ]
          },
          "execution_count": 29,
          "metadata": {},
          "output_type": "execute_result"
        }
      ],
      "source": [
        "\n",
        "\n",
        "\n"
      ],
      "id": "6d4EjYTemYBS"
    },
    {
      "cell_type": "markdown",
      "metadata": {
        "id": "uUdrLgg6mYBS"
      },
      "source": [
        "Create another datafeame 'd2' where the columns are <br>\n",
        "'city' - ['Bengalaru','Coimbatore','Srirangam','Pondicherry'] <br>\n",
        "'Temperature' - [24,35,36,39]"
      ],
      "id": "uUdrLgg6mYBS"
    },
    {
      "cell_type": "markdown",
      "metadata": {
        "id": "A5LN5QuqmYBS"
      },
      "source": [
        "<p style='text-align: right;'> 3+2+5 = 10 points</p>\n"
      ],
      "id": "A5LN5QuqmYBS"
    },
    {
      "cell_type": "code",
      "execution_count": null,
      "metadata": {
        "id": "CFBCGcvhmYBS",
        "outputId": "fc5089d3-dfb0-438a-b654-920f5d5dac5d"
      },
      "outputs": [
        {
          "name": "stdout",
          "output_type": "stream",
          "text": [
            "          city  Temperature\n",
            "0    Bengaluru           24\n",
            "1   Coimbatore           35\n",
            "2    Srirangam           36\n",
            "3  Pondicherry           39\n"
          ]
        }
      ],
      "source": [
        "d2 =\n",
        "\n",
        "\n",
        "\n"
      ],
      "id": "CFBCGcvhmYBS"
    },
    {
      "cell_type": "markdown",
      "metadata": {
        "id": "HivVdLN5mYBT"
      },
      "source": [
        "print the shape of this dataframe"
      ],
      "id": "HivVdLN5mYBT"
    },
    {
      "cell_type": "code",
      "execution_count": 37,
      "metadata": {
        "id": "9FFgtQJhmYBT",
        "outputId": "631d0437-9210-4cac-82c1-4d433f974e14",
        "colab": {
          "base_uri": "https://localhost:8080/"
        }
      },
      "outputs": [
        {
          "output_type": "stream",
          "name": "stdout",
          "text": [
            "(5, 2)\n"
          ]
        }
      ],
      "source": [
        "import pandas as pd\n",
        "\n",
        "# Create a DataFrame d1 with specified columns\n",
        "data = {\n",
        "    'city': ['Chandigarh', 'Delhi', 'Kanpur', 'Chennai', 'Manali'],\n",
        "    'Temperature': [15, 22, 20, 26, -2]\n",
        "}\n",
        "\n",
        "d1 = pd.DataFrame(data)\n",
        "\n",
        "# Print the shape of the DataFrame\n",
        "print(d1.shape)"
      ],
      "id": "9FFgtQJhmYBT"
    },
    {
      "cell_type": "markdown",
      "metadata": {
        "id": "UK38h5ktmYBT"
      },
      "source": [
        "merge the two dataframes together, save it in a new dataframe named 'd3'"
      ],
      "id": "UK38h5ktmYBT"
    },
    {
      "cell_type": "code",
      "execution_count": 39,
      "metadata": {
        "id": "GMbOPfjCmYBT",
        "outputId": "c4655c99-c75f-43bc-a505-824765497d7a",
        "colab": {
          "base_uri": "https://localhost:8080/"
        }
      },
      "outputs": [
        {
          "output_type": "stream",
          "name": "stdout",
          "text": [
            "   Score         city  Temperature\n",
            "e  800.0          NaN          NaN\n",
            "f  450.0          NaN          NaN\n",
            "d  400.0          NaN          NaN\n",
            "b  300.0          NaN          NaN\n",
            "a  200.0          NaN          NaN\n",
            "g  100.0          NaN          NaN\n",
            "c  100.0          NaN          NaN\n",
            "0    NaN   Chandigarh         15.0\n",
            "1    NaN        Delhi         22.0\n",
            "2    NaN       Kanpur         20.0\n",
            "3    NaN      Chennai         26.0\n",
            "4    NaN       Manali         -2.0\n",
            "5    NaN    Bengaluru         24.0\n",
            "6    NaN   Coimbatore         35.0\n",
            "7    NaN    Srirangam         36.0\n",
            "8    NaN  Pondicherry         39.0\n"
          ]
        }
      ],
      "source": [
        "import pandas as pd\n",
        "import numpy as np\n",
        "\n",
        "\n",
        "\n",
        "# Create the second DataFrame d1\n",
        "data = {\n",
        "    'city': ['Chandigarh', 'Delhi', 'Kanpur', 'Chennai', 'Manali','Bengaluru','Coimbatore','Srirangam','Pondicherry'],\n",
        "    'Temperature': [15, 22, 20, 26, -2, 24, 35, 36, 39 ]\n",
        "}\n",
        "d1 = pd.DataFrame(data)\n",
        "\n",
        "# Concatenate the two DataFrames along the columns\n",
        "d3 = pd.concat([df, d1], axis=1)\n",
        "\n",
        "# Print the new DataFrame d3\n",
        "print(d3)\n",
        "\n",
        "\n",
        "\n"
      ],
      "id": "GMbOPfjCmYBT"
    },
    {
      "cell_type": "markdown",
      "metadata": {
        "id": "eDAmyaNAmYBT"
      },
      "source": [
        "# fun fact at high level\n",
        "\n",
        "1. .concat() simply stacks multiple DataFrame together either vertically, or stitches horizontally after aligning on index\n",
        "2. .merge() first aligns two DataFrame' selected common column(s) or index, and then pick up the remaining columns from the aligned rows of each DataFrame\n",
        "\n",
        "Do you know about join function? This interesting quest we give to you to find."
      ],
      "id": "eDAmyaNAmYBT"
    },
    {
      "cell_type": "markdown",
      "metadata": {
        "id": "1dGlNGzjmYBT"
      },
      "source": [
        "Select the part of the dataframe such that it contains cities wherer temp is less then or equal to 20 <br>\n",
        "How many cities are there?"
      ],
      "id": "1dGlNGzjmYBT"
    },
    {
      "cell_type": "markdown",
      "metadata": {
        "id": "E4SwXV71mYBT"
      },
      "source": [
        "<p style='text-align: right;'> 5+5=10 points</p>\n"
      ],
      "id": "E4SwXV71mYBT"
    },
    {
      "cell_type": "code",
      "execution_count": 40,
      "metadata": {
        "id": "1vtC2UkgmYBT",
        "outputId": "7842a52c-863a-42fb-bc26-2cbb9db64fc9",
        "colab": {
          "base_uri": "https://localhost:8080/"
        }
      },
      "outputs": [
        {
          "output_type": "stream",
          "name": "stdout",
          "text": [
            "         city  Temperature\n",
            "0  Chandigarh           15\n",
            "2      Kanpur           20\n",
            "4      Manali           -2\n",
            "Number of cities with temperature <= 20: 3\n"
          ]
        }
      ],
      "source": [
        "import pandas as pd\n",
        "\n",
        "# Sample DataFrame\n",
        "data = {\n",
        "    'city': ['Chandigarh', 'Delhi', 'Kanpur', 'Chennai', 'Manali'],\n",
        "    'Temperature': [15, 22, 20, 26, -2]\n",
        "}\n",
        "df = pd.DataFrame(data)\n",
        "\n",
        "# Filter the DataFrame for cities where temperature is less than or equal to 20\n",
        "filtered_cities = df[df['Temperature'] <= 20]\n",
        "\n",
        "# Count the number of cities that meet the condition\n",
        "number_of_cities = filtered_cities.shape[0]\n",
        "\n",
        "# Print the filtered DataFrame and the count of cities\n",
        "print(filtered_cities)\n",
        "print(f'Number of cities with temperature <= 20: {number_of_cities}')\n",
        "\n",
        "\n"
      ],
      "id": "1vtC2UkgmYBT"
    },
    {
      "cell_type": "markdown",
      "metadata": {
        "id": "82QIQRQUmYBT"
      },
      "source": [
        "Select the part of the dataframe such that it contains the cities where tempearature greater than or equal to 35"
      ],
      "id": "82QIQRQUmYBT"
    },
    {
      "cell_type": "code",
      "execution_count": 41,
      "metadata": {
        "id": "Ea_hMtyGmYBU",
        "outputId": "f8134882-4817-45bb-932c-f075b8d15bcb",
        "colab": {
          "base_uri": "https://localhost:8080/"
        }
      },
      "outputs": [
        {
          "output_type": "stream",
          "name": "stdout",
          "text": [
            "          city  Temperature\n",
            "0   Coimbatore           35\n",
            "1    Srirangam           36\n",
            "2  Pondicherry           39\n",
            "Number of cities with temperature >= 35: 3\n"
          ]
        }
      ],
      "source": [
        "import pandas as pd\n",
        "\n",
        "# Sample DataFrame\n",
        "data = {\n",
        "    'city': ['Coimbatore', 'Srirangam', 'Pondicherry'],\n",
        "    'Temperature': [35, 36, 39]\n",
        "}\n",
        "df = pd.DataFrame(data)\n",
        "\n",
        "# Filter the DataFrame for cities where temperature is greater than or equal to 35\n",
        "filtered_cities = df[df['Temperature'] >= 35]\n",
        "\n",
        "# Count the number of cities that meet the condition\n",
        "number_of_cities = filtered_cities.shape[0]\n",
        "\n",
        "# Print the filtered DataFrame and the count of cities\n",
        "print(filtered_cities)\n",
        "print(f'Number of cities with temperature >= 35: {number_of_cities}')\n",
        "\n",
        "\n"
      ],
      "id": "Ea_hMtyGmYBU"
    },
    {
      "cell_type": "markdown",
      "metadata": {
        "id": "BrYscXpWmYBU"
      },
      "source": [
        "## 3. Applying functions to columns and creating new columns\n",
        "\n",
        "### **`VIdeo 4: Top Pandas Commands in Data Science`**\n",
        "\n",
        "**Note: You can watch full video for more learning or only from timestamp 17:00-20:00**"
      ],
      "id": "BrYscXpWmYBU"
    },
    {
      "cell_type": "markdown",
      "source": [
        "#### **`Additional Reference:`** https://www.geeksforgeeks.org/python-pandas-apply/"
      ],
      "metadata": {
        "id": "MjhU5ecro0Dm"
      },
      "id": "MjhU5ecro0Dm"
    },
    {
      "cell_type": "markdown",
      "metadata": {
        "id": "7fFrLB7MmYBU"
      },
      "source": [
        "<p style='text-align: right;'> 20 points</p>\n"
      ],
      "id": "7fFrLB7MmYBU"
    },
    {
      "cell_type": "markdown",
      "metadata": {
        "id": "7Z4ioDxtmYBU"
      },
      "source": [
        "We need to create another column in d3, which contains  a boolean value for each city to indicate whether it's a union territory or not.\n",
        "- HINT: Chandigarh, Pondicherry and Delhi are only 3 union territories here.\n"
      ],
      "id": "7Z4ioDxtmYBU"
    },
    {
      "cell_type": "code",
      "execution_count": 43,
      "metadata": {
        "id": "FR2wgv6tmYBU",
        "colab": {
          "base_uri": "https://localhost:8080/"
        },
        "outputId": "f29da15a-7bee-42a8-aabe-b5446666ca12"
      },
      "outputs": [
        {
          "output_type": "stream",
          "name": "stdout",
          "text": [
            "   Score         city  Temperature  is_ut\n",
            "e  800.0          NaN          NaN  False\n",
            "f  450.0          NaN          NaN  False\n",
            "d  400.0          NaN          NaN  False\n",
            "b  300.0          NaN          NaN  False\n",
            "a  200.0          NaN          NaN  False\n",
            "g  100.0          NaN          NaN  False\n",
            "c  100.0          NaN          NaN  False\n",
            "0    NaN   Chandigarh         15.0   True\n",
            "1    NaN        Delhi         22.0   True\n",
            "2    NaN       Kanpur         20.0  False\n",
            "3    NaN      Chennai         26.0  False\n",
            "4    NaN       Manali         -2.0  False\n",
            "5    NaN    Bengaluru         24.0  False\n",
            "6    NaN   Coimbatore         35.0  False\n",
            "7    NaN    Srirangam         36.0  False\n",
            "8    NaN  Pondicherry         39.0   True\n"
          ]
        }
      ],
      "source": [
        "# write function here\n",
        "\n",
        "# Assuming d3 is your DataFrame\n",
        "union_terrs = [\"Chandigarh\", \"Pondicherry\", \"Delhi\"]\n",
        "d3[\"is_ut\"] = d3[\"city\"].isin(union_terrs)\n",
        "\n",
        "# Print the updated DataFrame\n",
        "print(d3)\n"
      ],
      "id": "FR2wgv6tmYBU"
    },
    {
      "cell_type": "code",
      "execution_count": 44,
      "metadata": {
        "id": "0hd7QjComYBU",
        "outputId": "784e87d9-61f5-430d-9647-8af16d4268fa",
        "colab": {
          "base_uri": "https://localhost:8080/"
        }
      },
      "outputs": [
        {
          "output_type": "stream",
          "name": "stdout",
          "text": [
            "   Score         city  Temperature  is_ut\n",
            "e  800.0          NaN          NaN  False\n",
            "f  450.0          NaN          NaN  False\n",
            "d  400.0          NaN          NaN  False\n",
            "b  300.0          NaN          NaN  False\n",
            "a  200.0          NaN          NaN  False\n",
            "g  100.0          NaN          NaN  False\n",
            "c  100.0          NaN          NaN  False\n",
            "0    NaN   Chandigarh         15.0   True\n",
            "1    NaN        Delhi         22.0   True\n",
            "2    NaN       Kanpur         20.0  False\n",
            "3    NaN      Chennai         26.0  False\n",
            "4    NaN       Manali         -2.0  False\n",
            "5    NaN    Bengaluru         24.0  False\n",
            "6    NaN   Coimbatore         35.0  False\n",
            "7    NaN    Srirangam         36.0  False\n",
            "8    NaN  Pondicherry         39.0   True\n"
          ]
        }
      ],
      "source": [
        "# print d3\n",
        "print(d3)\n",
        "\n"
      ],
      "id": "0hd7QjComYBU"
    },
    {
      "cell_type": "markdown",
      "metadata": {
        "id": "z88YETlMmYBU"
      },
      "source": [
        "The temperatures mentioned in ‘Temperature’ column are mentioned in Celsius, we need another column which contains the same in Fahrenheit."
      ],
      "id": "z88YETlMmYBU"
    },
    {
      "cell_type": "markdown",
      "metadata": {
        "id": "ywp07m-xmYBU"
      },
      "source": [
        "HINT -\n",
        "- Define a function c_to_f which takes input temp in celsius and returns a value with temperature in Fahrenheit.\n",
        "- To check: c_to_f(10) should return 50.\n"
      ],
      "id": "ywp07m-xmYBU"
    },
    {
      "cell_type": "code",
      "execution_count": null,
      "metadata": {
        "id": "V0x_0IAAmYBV"
      },
      "outputs": [],
      "source": [
        "# write function here\n",
        "\n",
        "\n",
        "\n",
        "\n",
        "\n"
      ],
      "id": "V0x_0IAAmYBV"
    },
    {
      "cell_type": "code",
      "execution_count": null,
      "metadata": {
        "id": "Wc9meranmYBV",
        "outputId": "d83f0f45-482d-48a6-9226-2ea5ccac4e55"
      },
      "outputs": [
        {
          "data": {
            "text/plain": [
              "50.0"
            ]
          },
          "execution_count": 48,
          "metadata": {},
          "output_type": "execute_result"
        }
      ],
      "source": [
        "# check function c_to_f(10)\n",
        "\n",
        "\n",
        "\n"
      ],
      "id": "Wc9meranmYBV"
    },
    {
      "cell_type": "code",
      "execution_count": null,
      "metadata": {
        "id": "H79GUcoImYBV",
        "outputId": "834607ff-0221-45b5-d5b0-64b13a3acdfa"
      },
      "outputs": [
        {
          "data": {
            "text/html": [
              "<div>\n",
              "<style scoped>\n",
              "    .dataframe tbody tr th:only-of-type {\n",
              "        vertical-align: middle;\n",
              "    }\n",
              "\n",
              "    .dataframe tbody tr th {\n",
              "        vertical-align: top;\n",
              "    }\n",
              "\n",
              "    .dataframe thead th {\n",
              "        text-align: right;\n",
              "    }\n",
              "</style>\n",
              "<table border=\"1\" class=\"dataframe\">\n",
              "  <thead>\n",
              "    <tr style=\"text-align: right;\">\n",
              "      <th></th>\n",
              "      <th>city</th>\n",
              "      <th>Temperature</th>\n",
              "      <th>is_ut</th>\n",
              "      <th>temp_farenhiet</th>\n",
              "    </tr>\n",
              "  </thead>\n",
              "  <tbody>\n",
              "    <tr>\n",
              "      <th>0</th>\n",
              "      <td>Chandigarh</td>\n",
              "      <td>15</td>\n",
              "      <td>True</td>\n",
              "      <td>59.0</td>\n",
              "    </tr>\n",
              "    <tr>\n",
              "      <th>1</th>\n",
              "      <td>Delhi</td>\n",
              "      <td>22</td>\n",
              "      <td>True</td>\n",
              "      <td>71.6</td>\n",
              "    </tr>\n",
              "    <tr>\n",
              "      <th>2</th>\n",
              "      <td>Kanpur</td>\n",
              "      <td>20</td>\n",
              "      <td>False</td>\n",
              "      <td>68.0</td>\n",
              "    </tr>\n",
              "    <tr>\n",
              "      <th>3</th>\n",
              "      <td>Chennai</td>\n",
              "      <td>26</td>\n",
              "      <td>False</td>\n",
              "      <td>78.8</td>\n",
              "    </tr>\n",
              "    <tr>\n",
              "      <th>4</th>\n",
              "      <td>Manali</td>\n",
              "      <td>-2</td>\n",
              "      <td>False</td>\n",
              "      <td>28.4</td>\n",
              "    </tr>\n",
              "    <tr>\n",
              "      <th>0</th>\n",
              "      <td>Bengaluru</td>\n",
              "      <td>24</td>\n",
              "      <td>False</td>\n",
              "      <td>75.2</td>\n",
              "    </tr>\n",
              "    <tr>\n",
              "      <th>1</th>\n",
              "      <td>Coimbatore</td>\n",
              "      <td>35</td>\n",
              "      <td>False</td>\n",
              "      <td>95.0</td>\n",
              "    </tr>\n",
              "    <tr>\n",
              "      <th>2</th>\n",
              "      <td>Srirangam</td>\n",
              "      <td>36</td>\n",
              "      <td>False</td>\n",
              "      <td>96.8</td>\n",
              "    </tr>\n",
              "    <tr>\n",
              "      <th>3</th>\n",
              "      <td>Pondicherry</td>\n",
              "      <td>39</td>\n",
              "      <td>True</td>\n",
              "      <td>102.2</td>\n",
              "    </tr>\n",
              "  </tbody>\n",
              "</table>\n",
              "</div>"
            ],
            "text/plain": [
              "          city  Temperature  is_ut  temp_farenhiet\n",
              "0   Chandigarh           15   True            59.0\n",
              "1        Delhi           22   True            71.6\n",
              "2       Kanpur           20  False            68.0\n",
              "3      Chennai           26  False            78.8\n",
              "4       Manali           -2  False            28.4\n",
              "0    Bengaluru           24  False            75.2\n",
              "1   Coimbatore           35  False            95.0\n",
              "2    Srirangam           36  False            96.8\n",
              "3  Pondicherry           39   True           102.2"
            ]
          },
          "execution_count": 50,
          "metadata": {},
          "output_type": "execute_result"
        }
      ],
      "source": [
        "# apply function c_to_f to d3 to create a column 'temp_farenhiet'\n",
        "\n",
        "\n",
        "\n"
      ],
      "id": "H79GUcoImYBV"
    },
    {
      "cell_type": "markdown",
      "metadata": {
        "id": "Wj0p6JKHmYBV"
      },
      "source": [
        "## 4. Indexing and selecting rows in DataFrame\n",
        "\n",
        "### Reference: **`Video 5: Indexing DataFrame`**"
      ],
      "id": "Wj0p6JKHmYBV"
    },
    {
      "cell_type": "markdown",
      "metadata": {
        "id": "-A9yKp_UmYBV"
      },
      "source": [
        "<p style='text-align: right;'> 20 points</p>\n"
      ],
      "id": "-A9yKp_UmYBV"
    },
    {
      "cell_type": "markdown",
      "metadata": {
        "id": "fFitRJy2mYBV"
      },
      "source": [
        "Select subset of the dataframe d1 such that it contains the cities which are union territories."
      ],
      "id": "fFitRJy2mYBV"
    },
    {
      "cell_type": "code",
      "execution_count": null,
      "metadata": {
        "id": "Kg8OSVz0mYBV",
        "outputId": "686083a4-3b1f-4c7d-8fb8-d26aac318e52"
      },
      "outputs": [
        {
          "data": {
            "text/html": [
              "<div>\n",
              "<style scoped>\n",
              "    .dataframe tbody tr th:only-of-type {\n",
              "        vertical-align: middle;\n",
              "    }\n",
              "\n",
              "    .dataframe tbody tr th {\n",
              "        vertical-align: top;\n",
              "    }\n",
              "\n",
              "    .dataframe thead th {\n",
              "        text-align: right;\n",
              "    }\n",
              "</style>\n",
              "<table border=\"1\" class=\"dataframe\">\n",
              "  <thead>\n",
              "    <tr style=\"text-align: right;\">\n",
              "      <th></th>\n",
              "      <th>city</th>\n",
              "      <th>Temperature</th>\n",
              "      <th>is_ut</th>\n",
              "      <th>temp_farenhiet</th>\n",
              "    </tr>\n",
              "  </thead>\n",
              "  <tbody>\n",
              "    <tr>\n",
              "      <th>0</th>\n",
              "      <td>Chandigarh</td>\n",
              "      <td>15</td>\n",
              "      <td>True</td>\n",
              "      <td>59.0</td>\n",
              "    </tr>\n",
              "    <tr>\n",
              "      <th>1</th>\n",
              "      <td>Delhi</td>\n",
              "      <td>22</td>\n",
              "      <td>True</td>\n",
              "      <td>71.6</td>\n",
              "    </tr>\n",
              "    <tr>\n",
              "      <th>3</th>\n",
              "      <td>Pondicherry</td>\n",
              "      <td>39</td>\n",
              "      <td>True</td>\n",
              "      <td>102.2</td>\n",
              "    </tr>\n",
              "  </tbody>\n",
              "</table>\n",
              "</div>"
            ],
            "text/plain": [
              "          city  Temperature  is_ut  temp_farenhiet\n",
              "0   Chandigarh           15   True            59.0\n",
              "1        Delhi           22   True            71.6\n",
              "3  Pondicherry           39   True           102.2"
            ]
          },
          "execution_count": 51,
          "metadata": {},
          "output_type": "execute_result"
        }
      ],
      "source": [
        "\n",
        "\n"
      ],
      "id": "Kg8OSVz0mYBV"
    },
    {
      "cell_type": "markdown",
      "metadata": {
        "id": "XnxQl4ZPmYBV"
      },
      "source": [
        "Select a subset of the dataframe d1 such that it contains the cities which only have temperature above 90 Farenhiet."
      ],
      "id": "XnxQl4ZPmYBV"
    },
    {
      "cell_type": "code",
      "execution_count": null,
      "metadata": {
        "id": "9o62VSn7mYBV",
        "outputId": "0cf73a78-2dfc-4be7-9bea-43fd0318b657"
      },
      "outputs": [
        {
          "data": {
            "text/html": [
              "<div>\n",
              "<style scoped>\n",
              "    .dataframe tbody tr th:only-of-type {\n",
              "        vertical-align: middle;\n",
              "    }\n",
              "\n",
              "    .dataframe tbody tr th {\n",
              "        vertical-align: top;\n",
              "    }\n",
              "\n",
              "    .dataframe thead th {\n",
              "        text-align: right;\n",
              "    }\n",
              "</style>\n",
              "<table border=\"1\" class=\"dataframe\">\n",
              "  <thead>\n",
              "    <tr style=\"text-align: right;\">\n",
              "      <th></th>\n",
              "      <th>city</th>\n",
              "      <th>Temperature</th>\n",
              "      <th>is_ut</th>\n",
              "      <th>temp_farenhiet</th>\n",
              "    </tr>\n",
              "  </thead>\n",
              "  <tbody>\n",
              "    <tr>\n",
              "      <th>1</th>\n",
              "      <td>Coimbatore</td>\n",
              "      <td>35</td>\n",
              "      <td>False</td>\n",
              "      <td>95.0</td>\n",
              "    </tr>\n",
              "    <tr>\n",
              "      <th>2</th>\n",
              "      <td>Srirangam</td>\n",
              "      <td>36</td>\n",
              "      <td>False</td>\n",
              "      <td>96.8</td>\n",
              "    </tr>\n",
              "    <tr>\n",
              "      <th>3</th>\n",
              "      <td>Pondicherry</td>\n",
              "      <td>39</td>\n",
              "      <td>True</td>\n",
              "      <td>102.2</td>\n",
              "    </tr>\n",
              "  </tbody>\n",
              "</table>\n",
              "</div>"
            ],
            "text/plain": [
              "          city  Temperature  is_ut  temp_farenhiet\n",
              "1   Coimbatore           35  False            95.0\n",
              "2    Srirangam           36  False            96.8\n",
              "3  Pondicherry           39   True           102.2"
            ]
          },
          "execution_count": 52,
          "metadata": {},
          "output_type": "execute_result"
        }
      ],
      "source": [
        "\n",
        "\n",
        "\n"
      ],
      "id": "9o62VSn7mYBV"
    },
    {
      "cell_type": "markdown",
      "metadata": {
        "id": "IQq7K2EtmYBW"
      },
      "source": [
        "Select only the first three rows of the dataframe d1.\n"
      ],
      "id": "IQq7K2EtmYBW"
    },
    {
      "cell_type": "code",
      "execution_count": null,
      "metadata": {
        "id": "PlmVOyAAmYBW",
        "outputId": "2c1d6ad5-1e08-4f31-d0c0-c1fbf8289d32"
      },
      "outputs": [
        {
          "data": {
            "text/html": [
              "<div>\n",
              "<style scoped>\n",
              "    .dataframe tbody tr th:only-of-type {\n",
              "        vertical-align: middle;\n",
              "    }\n",
              "\n",
              "    .dataframe tbody tr th {\n",
              "        vertical-align: top;\n",
              "    }\n",
              "\n",
              "    .dataframe thead th {\n",
              "        text-align: right;\n",
              "    }\n",
              "</style>\n",
              "<table border=\"1\" class=\"dataframe\">\n",
              "  <thead>\n",
              "    <tr style=\"text-align: right;\">\n",
              "      <th></th>\n",
              "      <th>city</th>\n",
              "      <th>Temperature</th>\n",
              "      <th>is_ut</th>\n",
              "      <th>temp_farenhiet</th>\n",
              "    </tr>\n",
              "  </thead>\n",
              "  <tbody>\n",
              "    <tr>\n",
              "      <th>0</th>\n",
              "      <td>Chandigarh</td>\n",
              "      <td>15</td>\n",
              "      <td>True</td>\n",
              "      <td>59.0</td>\n",
              "    </tr>\n",
              "    <tr>\n",
              "      <th>1</th>\n",
              "      <td>Delhi</td>\n",
              "      <td>22</td>\n",
              "      <td>True</td>\n",
              "      <td>71.6</td>\n",
              "    </tr>\n",
              "    <tr>\n",
              "      <th>2</th>\n",
              "      <td>Kanpur</td>\n",
              "      <td>20</td>\n",
              "      <td>False</td>\n",
              "      <td>68.0</td>\n",
              "    </tr>\n",
              "  </tbody>\n",
              "</table>\n",
              "</div>"
            ],
            "text/plain": [
              "         city  Temperature  is_ut  temp_farenhiet\n",
              "0  Chandigarh           15   True            59.0\n",
              "1       Delhi           22   True            71.6\n",
              "2      Kanpur           20  False            68.0"
            ]
          },
          "execution_count": 57,
          "metadata": {},
          "output_type": "execute_result"
        }
      ],
      "source": [
        "d3.iloc[:3]"
      ],
      "id": "PlmVOyAAmYBW"
    },
    {
      "cell_type": "markdown",
      "metadata": {
        "id": "MKNIbwW2mYBW"
      },
      "source": [
        "Select all the rows and last two columns in the dataframe.\n",
        "\n",
        "\n"
      ],
      "id": "MKNIbwW2mYBW"
    },
    {
      "cell_type": "code",
      "execution_count": null,
      "metadata": {
        "id": "WfQasVJImYBW",
        "outputId": "c157a66e-61b9-4a9a-e7f1-6ee392ccfe3a"
      },
      "outputs": [
        {
          "data": {
            "text/html": [
              "<div>\n",
              "<style scoped>\n",
              "    .dataframe tbody tr th:only-of-type {\n",
              "        vertical-align: middle;\n",
              "    }\n",
              "\n",
              "    .dataframe tbody tr th {\n",
              "        vertical-align: top;\n",
              "    }\n",
              "\n",
              "    .dataframe thead th {\n",
              "        text-align: right;\n",
              "    }\n",
              "</style>\n",
              "<table border=\"1\" class=\"dataframe\">\n",
              "  <thead>\n",
              "    <tr style=\"text-align: right;\">\n",
              "      <th></th>\n",
              "      <th>is_ut</th>\n",
              "      <th>temp_farenhiet</th>\n",
              "    </tr>\n",
              "  </thead>\n",
              "  <tbody>\n",
              "    <tr>\n",
              "      <th>0</th>\n",
              "      <td>True</td>\n",
              "      <td>59.0</td>\n",
              "    </tr>\n",
              "    <tr>\n",
              "      <th>1</th>\n",
              "      <td>True</td>\n",
              "      <td>71.6</td>\n",
              "    </tr>\n",
              "    <tr>\n",
              "      <th>2</th>\n",
              "      <td>False</td>\n",
              "      <td>68.0</td>\n",
              "    </tr>\n",
              "    <tr>\n",
              "      <th>3</th>\n",
              "      <td>False</td>\n",
              "      <td>78.8</td>\n",
              "    </tr>\n",
              "    <tr>\n",
              "      <th>4</th>\n",
              "      <td>False</td>\n",
              "      <td>28.4</td>\n",
              "    </tr>\n",
              "    <tr>\n",
              "      <th>0</th>\n",
              "      <td>False</td>\n",
              "      <td>75.2</td>\n",
              "    </tr>\n",
              "    <tr>\n",
              "      <th>1</th>\n",
              "      <td>False</td>\n",
              "      <td>95.0</td>\n",
              "    </tr>\n",
              "    <tr>\n",
              "      <th>2</th>\n",
              "      <td>False</td>\n",
              "      <td>96.8</td>\n",
              "    </tr>\n",
              "    <tr>\n",
              "      <th>3</th>\n",
              "      <td>True</td>\n",
              "      <td>102.2</td>\n",
              "    </tr>\n",
              "  </tbody>\n",
              "</table>\n",
              "</div>"
            ],
            "text/plain": [
              "   is_ut  temp_farenhiet\n",
              "0   True            59.0\n",
              "1   True            71.6\n",
              "2  False            68.0\n",
              "3  False            78.8\n",
              "4  False            28.4\n",
              "0  False            75.2\n",
              "1  False            95.0\n",
              "2  False            96.8\n",
              "3   True           102.2"
            ]
          },
          "execution_count": 60,
          "metadata": {},
          "output_type": "execute_result"
        }
      ],
      "source": [
        "d3.iloc[:,-2:]"
      ],
      "id": "WfQasVJImYBW"
    },
    {
      "cell_type": "markdown",
      "metadata": {
        "id": "LQ9xspkHmYBW"
      },
      "source": [
        "## 5. Reading csv file and group by\n",
        "\n",
        "### Reference: **`Video 6: Reading CSV Files in Colab`**\n",
        "\n",
        "### **`Video 7: Pandas group by`**"
      ],
      "id": "LQ9xspkHmYBW"
    },
    {
      "cell_type": "markdown",
      "metadata": {
        "id": "uiFK-ZHImYBW"
      },
      "source": [
        "<p style='text-align: right;'> 2*2=4 points</p>\n"
      ],
      "id": "uiFK-ZHImYBW"
    },
    {
      "cell_type": "markdown",
      "metadata": {
        "id": "jvtVVnw_mYBW"
      },
      "source": [
        "Read the file 'weather_data.csv' and store it in a pandas dataframe 'df'"
      ],
      "id": "jvtVVnw_mYBW"
    },
    {
      "cell_type": "code",
      "execution_count": null,
      "metadata": {
        "id": "Gi1bnyUYmYBW"
      },
      "outputs": [],
      "source": [
        "df =\n"
      ],
      "id": "Gi1bnyUYmYBW"
    },
    {
      "cell_type": "markdown",
      "metadata": {
        "id": "8IHtK8VCmYBW"
      },
      "source": [
        "print the shape and head of the dataframe"
      ],
      "id": "8IHtK8VCmYBW"
    },
    {
      "cell_type": "code",
      "execution_count": null,
      "metadata": {
        "id": "cGhSCb9ymYBX",
        "outputId": "a8ae3b9d-df66-48ed-8035-c6728972ad43"
      },
      "outputs": [
        {
          "name": "stdout",
          "output_type": "stream",
          "text": [
            "(6, 4)\n"
          ]
        },
        {
          "data": {
            "text/html": [
              "<div>\n",
              "<style scoped>\n",
              "    .dataframe tbody tr th:only-of-type {\n",
              "        vertical-align: middle;\n",
              "    }\n",
              "\n",
              "    .dataframe tbody tr th {\n",
              "        vertical-align: top;\n",
              "    }\n",
              "\n",
              "    .dataframe thead th {\n",
              "        text-align: right;\n",
              "    }\n",
              "</style>\n",
              "<table border=\"1\" class=\"dataframe\">\n",
              "  <thead>\n",
              "    <tr style=\"text-align: right;\">\n",
              "      <th></th>\n",
              "      <th>day</th>\n",
              "      <th>temperature</th>\n",
              "      <th>windspeed</th>\n",
              "      <th>event</th>\n",
              "    </tr>\n",
              "  </thead>\n",
              "  <tbody>\n",
              "    <tr>\n",
              "      <th>0</th>\n",
              "      <td>1/1/2017</td>\n",
              "      <td>32</td>\n",
              "      <td>6</td>\n",
              "      <td>Rain</td>\n",
              "    </tr>\n",
              "    <tr>\n",
              "      <th>1</th>\n",
              "      <td>1/2/2017</td>\n",
              "      <td>35</td>\n",
              "      <td>7</td>\n",
              "      <td>Sunny</td>\n",
              "    </tr>\n",
              "    <tr>\n",
              "      <th>2</th>\n",
              "      <td>1/3/2017</td>\n",
              "      <td>28</td>\n",
              "      <td>2</td>\n",
              "      <td>Snow</td>\n",
              "    </tr>\n",
              "    <tr>\n",
              "      <th>3</th>\n",
              "      <td>1/4/2017</td>\n",
              "      <td>24</td>\n",
              "      <td>7</td>\n",
              "      <td>Snow</td>\n",
              "    </tr>\n",
              "    <tr>\n",
              "      <th>4</th>\n",
              "      <td>1/5/2017</td>\n",
              "      <td>32</td>\n",
              "      <td>4</td>\n",
              "      <td>Rain</td>\n",
              "    </tr>\n",
              "  </tbody>\n",
              "</table>\n",
              "</div>"
            ],
            "text/plain": [
              "        day  temperature  windspeed  event\n",
              "0  1/1/2017           32          6   Rain\n",
              "1  1/2/2017           35          7  Sunny\n",
              "2  1/3/2017           28          2   Snow\n",
              "3  1/4/2017           24          7   Snow\n",
              "4  1/5/2017           32          4   Rain"
            ]
          },
          "execution_count": 63,
          "metadata": {},
          "output_type": "execute_result"
        }
      ],
      "source": [
        "\n",
        "\n",
        "\n"
      ],
      "id": "cGhSCb9ymYBX"
    },
    {
      "cell_type": "markdown",
      "metadata": {
        "id": "RCfZrH2HmYBX"
      },
      "source": [
        "Group the dataframe wrt to 'event' and save the resulting output in a variable named 'g'"
      ],
      "id": "RCfZrH2HmYBX"
    },
    {
      "cell_type": "markdown",
      "metadata": {
        "id": "fH7ZmEOymYBX"
      },
      "source": [
        "<p style='text-align: right;'> 5*3 = 15 points</p>\n"
      ],
      "id": "fH7ZmEOymYBX"
    },
    {
      "cell_type": "code",
      "execution_count": null,
      "metadata": {
        "id": "fUr9pnPkmYBX"
      },
      "outputs": [],
      "source": [
        "g =\n",
        "\n"
      ],
      "id": "fUr9pnPkmYBX"
    },
    {
      "cell_type": "markdown",
      "metadata": {
        "id": "zmI9MJC_mYBX"
      },
      "source": [
        "Print g and  type(g)"
      ],
      "id": "zmI9MJC_mYBX"
    },
    {
      "cell_type": "code",
      "execution_count": null,
      "metadata": {
        "id": "OMghEs8ZmYBX",
        "outputId": "9d128a9d-8f3a-4a9e-d7a4-96565cceed2a"
      },
      "outputs": [
        {
          "name": "stdout",
          "output_type": "stream",
          "text": [
            "<pandas.core.groupby.generic.DataFrameGroupBy object at 0x7fd3580e09d0>\n",
            "<class 'pandas.core.groupby.generic.DataFrameGroupBy'>\n"
          ]
        }
      ],
      "source": [
        "\n",
        "\n",
        "\n"
      ],
      "id": "OMghEs8ZmYBX"
    },
    {
      "cell_type": "markdown",
      "metadata": {
        "id": "JfkiJO94mYBX"
      },
      "source": [
        "Iterate over all the temperatures in g and print them"
      ],
      "id": "JfkiJO94mYBX"
    },
    {
      "cell_type": "code",
      "execution_count": null,
      "metadata": {
        "id": "wVlRzIgOmYBX",
        "outputId": "85bc943b-f5b7-4519-985a-cd6c070d690f"
      },
      "outputs": [
        {
          "name": "stdout",
          "output_type": "stream",
          "text": [
            "('Rain',         day  temperature  windspeed event\n",
            "0  1/1/2017           32          6  Rain\n",
            "4  1/5/2017           32          4  Rain)\n",
            "('Snow',         day  temperature  windspeed event\n",
            "2  1/3/2017           28          2  Snow\n",
            "3  1/4/2017           24          7  Snow)\n",
            "('Sunny',         day  temperature  windspeed  event\n",
            "1  1/2/2017           35          7  Sunny\n",
            "5  1/6/2017           31          2  Sunny)\n"
          ]
        }
      ],
      "source": [
        "\n",
        "\n"
      ],
      "id": "wVlRzIgOmYBX"
    },
    {
      "cell_type": "markdown",
      "metadata": {
        "id": "X6LoFMGrmYBY"
      },
      "source": [
        "Use the describle method on g to get the complete description on it."
      ],
      "id": "X6LoFMGrmYBY"
    },
    {
      "cell_type": "code",
      "execution_count": null,
      "metadata": {
        "id": "1OyEbkkhmYBY",
        "outputId": "6f2a6ce6-4d02-41cd-b889-42dddbc6a181"
      },
      "outputs": [
        {
          "data": {
            "text/html": [
              "<div>\n",
              "<style scoped>\n",
              "    .dataframe tbody tr th:only-of-type {\n",
              "        vertical-align: middle;\n",
              "    }\n",
              "\n",
              "    .dataframe tbody tr th {\n",
              "        vertical-align: top;\n",
              "    }\n",
              "\n",
              "    .dataframe thead tr th {\n",
              "        text-align: left;\n",
              "    }\n",
              "\n",
              "    .dataframe thead tr:last-of-type th {\n",
              "        text-align: right;\n",
              "    }\n",
              "</style>\n",
              "<table border=\"1\" class=\"dataframe\">\n",
              "  <thead>\n",
              "    <tr>\n",
              "      <th></th>\n",
              "      <th colspan=\"8\" halign=\"left\">temperature</th>\n",
              "      <th colspan=\"8\" halign=\"left\">windspeed</th>\n",
              "    </tr>\n",
              "    <tr>\n",
              "      <th></th>\n",
              "      <th>count</th>\n",
              "      <th>mean</th>\n",
              "      <th>std</th>\n",
              "      <th>min</th>\n",
              "      <th>25%</th>\n",
              "      <th>50%</th>\n",
              "      <th>75%</th>\n",
              "      <th>max</th>\n",
              "      <th>count</th>\n",
              "      <th>mean</th>\n",
              "      <th>std</th>\n",
              "      <th>min</th>\n",
              "      <th>25%</th>\n",
              "      <th>50%</th>\n",
              "      <th>75%</th>\n",
              "      <th>max</th>\n",
              "    </tr>\n",
              "    <tr>\n",
              "      <th>event</th>\n",
              "      <th></th>\n",
              "      <th></th>\n",
              "      <th></th>\n",
              "      <th></th>\n",
              "      <th></th>\n",
              "      <th></th>\n",
              "      <th></th>\n",
              "      <th></th>\n",
              "      <th></th>\n",
              "      <th></th>\n",
              "      <th></th>\n",
              "      <th></th>\n",
              "      <th></th>\n",
              "      <th></th>\n",
              "      <th></th>\n",
              "      <th></th>\n",
              "    </tr>\n",
              "  </thead>\n",
              "  <tbody>\n",
              "    <tr>\n",
              "      <th>Rain</th>\n",
              "      <td>2.0</td>\n",
              "      <td>32.0</td>\n",
              "      <td>0.000000</td>\n",
              "      <td>32.0</td>\n",
              "      <td>32.0</td>\n",
              "      <td>32.0</td>\n",
              "      <td>32.0</td>\n",
              "      <td>32.0</td>\n",
              "      <td>2.0</td>\n",
              "      <td>5.0</td>\n",
              "      <td>1.414214</td>\n",
              "      <td>4.0</td>\n",
              "      <td>4.50</td>\n",
              "      <td>5.0</td>\n",
              "      <td>5.50</td>\n",
              "      <td>6.0</td>\n",
              "    </tr>\n",
              "    <tr>\n",
              "      <th>Snow</th>\n",
              "      <td>2.0</td>\n",
              "      <td>26.0</td>\n",
              "      <td>2.828427</td>\n",
              "      <td>24.0</td>\n",
              "      <td>25.0</td>\n",
              "      <td>26.0</td>\n",
              "      <td>27.0</td>\n",
              "      <td>28.0</td>\n",
              "      <td>2.0</td>\n",
              "      <td>4.5</td>\n",
              "      <td>3.535534</td>\n",
              "      <td>2.0</td>\n",
              "      <td>3.25</td>\n",
              "      <td>4.5</td>\n",
              "      <td>5.75</td>\n",
              "      <td>7.0</td>\n",
              "    </tr>\n",
              "    <tr>\n",
              "      <th>Sunny</th>\n",
              "      <td>2.0</td>\n",
              "      <td>33.0</td>\n",
              "      <td>2.828427</td>\n",
              "      <td>31.0</td>\n",
              "      <td>32.0</td>\n",
              "      <td>33.0</td>\n",
              "      <td>34.0</td>\n",
              "      <td>35.0</td>\n",
              "      <td>2.0</td>\n",
              "      <td>4.5</td>\n",
              "      <td>3.535534</td>\n",
              "      <td>2.0</td>\n",
              "      <td>3.25</td>\n",
              "      <td>4.5</td>\n",
              "      <td>5.75</td>\n",
              "      <td>7.0</td>\n",
              "    </tr>\n",
              "  </tbody>\n",
              "</table>\n",
              "</div>"
            ],
            "text/plain": [
              "      temperature                                               windspeed  \\\n",
              "            count  mean       std   min   25%   50%   75%   max     count   \n",
              "event                                                                       \n",
              "Rain          2.0  32.0  0.000000  32.0  32.0  32.0  32.0  32.0       2.0   \n",
              "Snow          2.0  26.0  2.828427  24.0  25.0  26.0  27.0  28.0       2.0   \n",
              "Sunny         2.0  33.0  2.828427  31.0  32.0  33.0  34.0  35.0       2.0   \n",
              "\n",
              "                                                 \n",
              "      mean       std  min   25%  50%   75%  max  \n",
              "event                                            \n",
              "Rain   5.0  1.414214  4.0  4.50  5.0  5.50  6.0  \n",
              "Snow   4.5  3.535534  2.0  3.25  4.5  5.75  7.0  \n",
              "Sunny  4.5  3.535534  2.0  3.25  4.5  5.75  7.0  "
            ]
          },
          "execution_count": 78,
          "metadata": {},
          "output_type": "execute_result"
        }
      ],
      "source": [
        "\n",
        "\n"
      ],
      "id": "1OyEbkkhmYBY"
    },
    {
      "cell_type": "markdown",
      "metadata": {
        "id": "SKKjfy9xmYBY"
      },
      "source": [
        "Create a new column in the dataframe df, named 'hot_temp' which contains True if temp is above 30, else False"
      ],
      "id": "SKKjfy9xmYBY"
    },
    {
      "cell_type": "markdown",
      "metadata": {
        "id": "eLAFDOtJmYBY"
      },
      "source": [
        "<p style='text-align: right;'> 5 points</p>\n"
      ],
      "id": "eLAFDOtJmYBY"
    },
    {
      "cell_type": "code",
      "execution_count": null,
      "metadata": {
        "id": "FAbrAzhNmYBY"
      },
      "outputs": [],
      "source": [
        "#code here to filter df with above condition\n",
        "df['hot_temp'] =\n",
        "\n"
      ],
      "id": "FAbrAzhNmYBY"
    },
    {
      "cell_type": "code",
      "execution_count": null,
      "metadata": {
        "id": "h0SJIzixmYBY",
        "outputId": "ee5df960-88b6-4ff1-e309-ba9bc15f425b"
      },
      "outputs": [
        {
          "data": {
            "text/html": [
              "<div>\n",
              "<style scoped>\n",
              "    .dataframe tbody tr th:only-of-type {\n",
              "        vertical-align: middle;\n",
              "    }\n",
              "\n",
              "    .dataframe tbody tr th {\n",
              "        vertical-align: top;\n",
              "    }\n",
              "\n",
              "    .dataframe thead th {\n",
              "        text-align: right;\n",
              "    }\n",
              "</style>\n",
              "<table border=\"1\" class=\"dataframe\">\n",
              "  <thead>\n",
              "    <tr style=\"text-align: right;\">\n",
              "      <th></th>\n",
              "      <th>day</th>\n",
              "      <th>temperature</th>\n",
              "      <th>windspeed</th>\n",
              "      <th>event</th>\n",
              "      <th>hot_temp</th>\n",
              "    </tr>\n",
              "  </thead>\n",
              "  <tbody>\n",
              "    <tr>\n",
              "      <th>0</th>\n",
              "      <td>1/1/2017</td>\n",
              "      <td>32</td>\n",
              "      <td>6</td>\n",
              "      <td>Rain</td>\n",
              "      <td>True</td>\n",
              "    </tr>\n",
              "    <tr>\n",
              "      <th>1</th>\n",
              "      <td>1/2/2017</td>\n",
              "      <td>35</td>\n",
              "      <td>7</td>\n",
              "      <td>Sunny</td>\n",
              "      <td>True</td>\n",
              "    </tr>\n",
              "    <tr>\n",
              "      <th>2</th>\n",
              "      <td>1/3/2017</td>\n",
              "      <td>28</td>\n",
              "      <td>2</td>\n",
              "      <td>Snow</td>\n",
              "      <td>False</td>\n",
              "    </tr>\n",
              "    <tr>\n",
              "      <th>3</th>\n",
              "      <td>1/4/2017</td>\n",
              "      <td>24</td>\n",
              "      <td>7</td>\n",
              "      <td>Snow</td>\n",
              "      <td>False</td>\n",
              "    </tr>\n",
              "    <tr>\n",
              "      <th>4</th>\n",
              "      <td>1/5/2017</td>\n",
              "      <td>32</td>\n",
              "      <td>4</td>\n",
              "      <td>Rain</td>\n",
              "      <td>True</td>\n",
              "    </tr>\n",
              "    <tr>\n",
              "      <th>5</th>\n",
              "      <td>1/6/2017</td>\n",
              "      <td>31</td>\n",
              "      <td>2</td>\n",
              "      <td>Sunny</td>\n",
              "      <td>True</td>\n",
              "    </tr>\n",
              "  </tbody>\n",
              "</table>\n",
              "</div>"
            ],
            "text/plain": [
              "        day  temperature  windspeed  event  hot_temp\n",
              "0  1/1/2017           32          6   Rain      True\n",
              "1  1/2/2017           35          7  Sunny      True\n",
              "2  1/3/2017           28          2   Snow     False\n",
              "3  1/4/2017           24          7   Snow     False\n",
              "4  1/5/2017           32          4   Rain      True\n",
              "5  1/6/2017           31          2  Sunny      True"
            ]
          },
          "execution_count": 81,
          "metadata": {},
          "output_type": "execute_result"
        }
      ],
      "source": [
        "# print df\n",
        "\n"
      ],
      "id": "h0SJIzixmYBY"
    },
    {
      "cell_type": "markdown",
      "metadata": {
        "id": "goEgED0xmYBY"
      },
      "source": [
        "## Data Range\n",
        "\n",
        "### Reference:-**`Video 8: Pandas Date Range`**"
      ],
      "id": "goEgED0xmYBY"
    },
    {
      "cell_type": "markdown",
      "metadata": {
        "id": "bHsjHWvpmYBY"
      },
      "source": [
        "<p style='text-align: right;'> 5*3 = 15 points</p>\n"
      ],
      "id": "bHsjHWvpmYBY"
    },
    {
      "cell_type": "markdown",
      "metadata": {
        "id": "jJOxVdLemYBY"
      },
      "source": [
        "Create a pandas daterange where starting date is 1st of January,2020 and end date is 1st of April 2021, store it in a new variable named 'a'"
      ],
      "id": "jJOxVdLemYBY"
    },
    {
      "cell_type": "code",
      "execution_count": null,
      "metadata": {
        "id": "Nvx8f5GTmYBZ"
      },
      "outputs": [],
      "source": [
        "a =\n",
        "\n"
      ],
      "id": "Nvx8f5GTmYBZ"
    },
    {
      "cell_type": "markdown",
      "metadata": {
        "id": "ybvAMVSzmYBZ"
      },
      "source": [
        "print a"
      ],
      "id": "ybvAMVSzmYBZ"
    },
    {
      "cell_type": "code",
      "execution_count": null,
      "metadata": {
        "id": "TOe-Alj8mYBZ",
        "outputId": "a0e830f7-6826-4082-98c4-cc02bcfe43f3"
      },
      "outputs": [
        {
          "data": {
            "text/plain": [
              "DatetimeIndex(['2020-01-01', '2020-01-02', '2020-01-03', '2020-01-04',\n",
              "               '2020-01-05', '2020-01-06', '2020-01-07', '2020-01-08',\n",
              "               '2020-01-09', '2020-01-10',\n",
              "               ...\n",
              "               '2020-12-26', '2020-12-27', '2020-12-28', '2020-12-29',\n",
              "               '2020-12-30', '2020-12-31', '2021-01-01', '2021-01-02',\n",
              "               '2021-01-03', '2021-01-04'],\n",
              "              dtype='datetime64[ns]', length=370, freq='D')"
            ]
          },
          "execution_count": 38,
          "metadata": {},
          "output_type": "execute_result"
        }
      ],
      "source": [
        "\n",
        "\n"
      ],
      "id": "TOe-Alj8mYBZ"
    },
    {
      "cell_type": "markdown",
      "metadata": {
        "id": "vI1gctGmmYBZ"
      },
      "source": [
        "What is the len of a?"
      ],
      "id": "vI1gctGmmYBZ"
    },
    {
      "cell_type": "code",
      "execution_count": null,
      "metadata": {
        "id": "D66uR7vDmYBZ",
        "outputId": "c3fcbc58-7b57-4cf8-bc44-85303b525c6e"
      },
      "outputs": [
        {
          "name": "stdout",
          "output_type": "stream",
          "text": [
            "370\n"
          ]
        }
      ],
      "source": [
        "\n",
        "\n"
      ],
      "id": "D66uR7vDmYBZ"
    },
    {
      "cell_type": "markdown",
      "metadata": {
        "id": "MQvcL-SImYBZ"
      },
      "source": [
        "What is the type of a?"
      ],
      "id": "MQvcL-SImYBZ"
    },
    {
      "cell_type": "code",
      "execution_count": null,
      "metadata": {
        "id": "cnb8Z0CXmYBZ",
        "outputId": "a72dc4cd-5225-4098-8084-900f69caeb81"
      },
      "outputs": [
        {
          "data": {
            "text/plain": [
              "pandas.core.indexes.datetimes.DatetimeIndex"
            ]
          },
          "execution_count": 87,
          "metadata": {},
          "output_type": "execute_result"
        }
      ],
      "source": [
        "\n",
        "\n",
        "\n"
      ],
      "id": "cnb8Z0CXmYBZ"
    },
    {
      "cell_type": "markdown",
      "metadata": {
        "id": "uvdNe1lVmYBZ"
      },
      "source": [
        "________________\n",
        "# Hey high five! You solved the 4th milestone challenge too! Pawri to banti hai ;)\n",
        "________________"
      ],
      "id": "uvdNe1lVmYBZ"
    }
  ],
  "metadata": {
    "kernelspec": {
      "display_name": "Python 3",
      "language": "python",
      "name": "python3"
    },
    "language_info": {
      "codemirror_mode": {
        "name": "ipython",
        "version": 3
      },
      "file_extension": ".py",
      "mimetype": "text/x-python",
      "name": "python",
      "nbconvert_exporter": "python",
      "pygments_lexer": "ipython3",
      "version": "3.8.5"
    },
    "colab": {
      "provenance": [],
      "include_colab_link": true
    }
  },
  "nbformat": 4,
  "nbformat_minor": 5
}